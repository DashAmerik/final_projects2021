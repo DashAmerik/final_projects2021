{
 "cells": [
  {
   "cell_type": "code",
   "execution_count": 1,
   "id": "b9f97094",
   "metadata": {},
   "outputs": [],
   "source": [
    "import pandas as pd\n",
    "import matplotlib.pyplot as plt\n",
    "import csv\n",
    "from datetime import datetime"
   ]
  },
  {
   "cell_type": "code",
   "execution_count": 2,
   "id": "ef701cb2",
   "metadata": {},
   "outputs": [],
   "source": [
    "data = {'Hospital Cases': [], 'Unemployment':[], 'HosDate':[], 'UnEmpDate':[], 'NewHosDate':[], 'NewHosCases':[], 'NewUnEmpDate':[], 'NewUnEmp':[], }"
   ]
  },
  {
   "cell_type": "code",
   "execution_count": 3,
   "id": "db8d2923",
   "metadata": {},
   "outputs": [],
   "source": [
    "i = 0\n",
    "with open(r'C:\\Users\\DAmer\\OneDrive\\Документы\\GitHub\\final_projects2021\\data_analysis\\HospitalCases_2021-09-10.csv','r') as file:\n",
    "    reader = csv.reader(file)\n",
    "    for row in reader:\n",
    "        if i > 0:\n",
    "            data['HosDate'].append(row[3])\n",
    "            data['Hospital Cases'].append(row[4])\n",
    "        i += 1\n",
    "        \n",
    "        "
   ]
  },
  {
   "cell_type": "code",
   "execution_count": 4,
   "id": "84fe8f31",
   "metadata": {},
   "outputs": [],
   "source": [
    "i = 0\n",
    "with open(r'C:\\Users\\DAmer\\OneDrive\\Документы\\GitHub\\final_projects2021\\data_analysis\\unemployment-rate.csv','r') as file:\n",
    "    reader = csv.reader(file)\n",
    "    for row in reader:\n",
    "        if i > 0:\n",
    "            data['UnEmpDate'].append(row[0])\n",
    "            data['Unemployment'].append(row[1])\n",
    "        i += 1"
   ]
  },
  {
   "cell_type": "code",
   "execution_count": 5,
   "id": "20014630",
   "metadata": {},
   "outputs": [],
   "source": [
    "for i in range(len(data['HosDate'])):\n",
    "    data['HosDate'][i] = datetime.strptime(data['HosDate'][i], '%m/%d/%Y')\n",
    "    \n",
    "    \n",
    "for i in range(len(data['UnEmpDate'])):\n",
    "    data['UnEmpDate'][i] = datetime.strptime(data['UnEmpDate'][i], '%d/%m/%Y')\n",
    "    \n"
   ]
  },
  {
   "cell_type": "code",
   "execution_count": 6,
   "id": "6c856d9e",
   "metadata": {},
   "outputs": [],
   "source": [
    "data['HosDate'].reverse()\n",
    "data['Hospital Cases'].reverse()"
   ]
  },
  {
   "cell_type": "code",
   "execution_count": 7,
   "id": "50a6203b",
   "metadata": {},
   "outputs": [],
   "source": [
    "start_date = '01/04/20'\n",
    "datetime_object = datetime.strptime(start_date, '%d/%m/%y')\n",
    "startwriting = False\n",
    "for i in range(len(data['HosDate'])):\n",
    "    if data['HosDate'][i] == datetime_object:\n",
    "        startwriting = True\n",
    "    if startwriting == True:\n",
    "        data['NewHosDate'].append(data['HosDate'][i])\n",
    "        data['NewHosCases'].append(data['Hospital Cases'][i])\n",
    "\n",
    "for i in range(len(data['UnEmpDate'])):\n",
    "    if data['UnEmpDate'][i] == datetime_object:\n",
    "        startwriting = True\n",
    "    if startwriting == True:\n",
    "        data['NewUnEmpDate'].append(data['UnEmpDate'][i])\n",
    "        data['NewUnEmp'].append(data['Unemployment'][i])"
   ]
  },
  {
   "cell_type": "code",
   "execution_count": 8,
   "id": "3c235651",
   "metadata": {},
   "outputs": [
    {
     "name": "stdout",
     "output_type": "stream",
     "text": [
      "['4', '4.1', '4.1', '4.3', '4.5', '4.8', '5', '5.1', '5.2', '5.1', '5', '4.9', '4.8', '4.8', '4.7', '4.7', '4.8']\n"
     ]
    }
   ],
   "source": []
  },
  {
   "cell_type": "code",
   "execution_count": null,
   "id": "0ee740e4",
   "metadata": {},
   "outputs": [],
   "source": []
  }
 ],
 "metadata": {
  "kernelspec": {
   "display_name": "Python 3 (ipykernel)",
   "language": "python",
   "name": "python3"
  },
  "language_info": {
   "codemirror_mode": {
    "name": "ipython",
    "version": 3
   },
   "file_extension": ".py",
   "mimetype": "text/x-python",
   "name": "python",
   "nbconvert_exporter": "python",
   "pygments_lexer": "ipython3",
   "version": "3.7.7"
  }
 },
 "nbformat": 4,
 "nbformat_minor": 5
}
