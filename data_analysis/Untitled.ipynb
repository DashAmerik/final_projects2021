{
 "cells": [
  {
   "cell_type": "code",
   "execution_count": 1,
   "id": "b9f97094",
   "metadata": {},
   "outputs": [],
   "source": [
    "import pandas as pd\n",
    "import numpy as np\n",
    "import matplotlib.pyplot as plt\n",
    "import csv\n",
    "from datetime import datetime"
   ]
  },
  {
   "cell_type": "code",
   "execution_count": 2,
   "id": "ef701cb2",
   "metadata": {},
   "outputs": [],
   "source": [
    "data = {'Hospital Cases': [], 'Unemployment':[], 'HosDate':[], 'UnEmpDate':[], 'NewHosDate':[], 'NewHosCases':[], 'NewUnEmpDate':[], 'NewUnEmp':[], }"
   ]
  },
  {
   "cell_type": "code",
   "execution_count": 3,
   "id": "db8d2923",
   "metadata": {},
   "outputs": [],
   "source": [
    "i = 0\n",
    "with open(r'C:\\Users\\DAmer\\OneDrive\\Документы\\GitHub\\final_projects2021\\data_analysis\\HospitalCases_2021-09-10.csv','r') as file:\n",
    "    reader = csv.reader(file)\n",
    "    for row in reader:\n",
    "        if i > 0:\n",
    "            data['HosDate'].append(row[3])\n",
    "            data['Hospital Cases'].append(row[4])\n",
    "        i += 1\n",
    "        \n",
    "        "
   ]
  },
  {
   "cell_type": "code",
   "execution_count": 4,
   "id": "84fe8f31",
   "metadata": {},
   "outputs": [],
   "source": [
    "i = 0\n",
    "with open(r'C:\\Users\\DAmer\\OneDrive\\Документы\\GitHub\\final_projects2021\\data_analysis\\unemployment-rate.csv','r') as file:\n",
    "    reader = csv.reader(file)\n",
    "    for row in reader:\n",
    "        if i > 0:\n",
    "            data['UnEmpDate'].append(row[0])\n",
    "            data['Unemployment'].append(row[1])\n",
    "        i += 1"
   ]
  },
  {
   "cell_type": "code",
   "execution_count": 5,
   "id": "20014630",
   "metadata": {},
   "outputs": [],
   "source": [
    "for i in range(len(data['HosDate'])):\n",
    "    data['HosDate'][i] = datetime.strptime(data['HosDate'][i], '%m/%d/%Y')\n",
    "    \n",
    "    \n",
    "for i in range(len(data['UnEmpDate'])):\n",
    "    data['UnEmpDate'][i] = datetime.strptime(data['UnEmpDate'][i], '%d/%m/%Y')\n",
    "    \n"
   ]
  },
  {
   "cell_type": "code",
   "execution_count": 6,
   "id": "6c856d9e",
   "metadata": {},
   "outputs": [],
   "source": [
    "data['HosDate'].reverse()\n",
    "data['Hospital Cases'].reverse()"
   ]
  },
  {
   "cell_type": "code",
   "execution_count": 7,
   "id": "50a6203b",
   "metadata": {},
   "outputs": [],
   "source": [
    "start_date = '01/04/20'\n",
    "datetime_object = datetime.strptime(start_date, '%d/%m/%y')\n",
    "startwriting = False\n",
    "for i in range(len(data['HosDate'])):\n",
    "    if data['HosDate'][i] == datetime_object:\n",
    "        startwriting = True\n",
    "    if startwriting == True:\n",
    "        data['NewHosDate'].append(data['HosDate'][i])\n",
    "        data['NewHosCases'].append(data['Hospital Cases'][i])\n",
    "\n",
    "for i in range(len(data['UnEmpDate'])):\n",
    "    if data['UnEmpDate'][i] == datetime_object:\n",
    "        startwriting = True\n",
    "    if startwriting == True:\n",
    "        data['NewUnEmpDate'].append(data['UnEmpDate'][i])\n",
    "        data['NewUnEmp'].append(data['Unemployment'][i])"
   ]
  },
  {
   "cell_type": "code",
   "execution_count": 8,
   "id": "3c235651",
   "metadata": {
    "scrolled": true
   },
   "outputs": [
    {
     "name": "stdout",
     "output_type": "stream",
     "text": [
      "['13637', '13875', '15546', '17502', '18855', '19493', '20234', '20740', '21005', '21280', '21254', '21687', '21308', '21281', '20582', '20389', '19330', '19456', '19574', '19331', '19139', '18533', '17867', '17063', '16604', '16555', '16662', '15877', '15521', '15164', '14723', '14380', '14188', '14097', '13723', '13148', '12626', '12053', '12015', '11727', '11967', '11591', '11342', '10921', '10691', '10238', '10199', '10231', '10013', '9563', '9293', '9184', '8814', '8814', '8836', '8732', '8220', '7907', '7586', '7268', '7238', '7248', '7087', '6815', '6580', '6379', '6149', '5944', '5931', '5736', '5475', '5179', '5090', '4941', '4908', '4870', '4863', '4719', '4560', '4414', '4252', '4222', '4281', '4134', '4030', '3850', '3620', '3544', '3557', '3748', '3383', '3198', '3079', '2942', '2802', '2741', '2699', '2598', '2454', '2344', '2243', '2118', '2100', '2112', '1993', '1974', '1829', '1804', '1776', '1742', '1734', '1634', '1747', '1538', '1453', '1401', '1383', '1370', '1369', '1350', '1314', '1266', '1290', '1254', '1251', '1216', '1200', '1155', '1094', '1027', '983', '1087', '1039', '1004', '1008', '995', '974', '979', '982', '953', '924', '909', '888', '943', '870', '876', '844', '829', '840', '818', '833', '831', '854', '861', '803', '817', '818', '812', '817', '902', '894', '924', '944', '770', '812', '843', '982', '1066', '1106', '1162', '1221', '1300', '1398', '1558', '1636', '1730', '1846', '2020', '2033', '2188', '2399', '2420', '2530', '2592', '2723', '2867', '3056', '3370', '3642', '3893', '4085', '4170', '4358', '4670', '4959', '5293', '5598', '5933', '6296', '6545', '6829', '7334', '7852', '8132', '8311', '8886', '9262', '9786', '10108', '10938', '11434', '11583', '11788', '12310', '12230', '13105', '13749', '13817', '13796', '13958', '14314', '14546', '15141', '14964', '15666', '15879', '16236', '16299', '16864', '17313', '17439', '17486', '17459', '17184', '17063', '17264', '17680', '17424', '17132', '16762', '16571', '15985', '16313', '16565', '16312', '15977', '15658', '15727', '15688', '15960', '16415', '16477', '16331', '16723', '16885', '16909', '17538', '18246', '18216', '18671', '18970', '19117', '19463', '20004', '21133', '21488', '21222', '21577', '20918', '21730', '22764', '24049', '25549', '26551', '26578', '26389', '27561', '29033', '30775', '30686', '31946', '32583', '33778', '34032', '35391', '36751', '36981', '37487', '37691', '38132', '37715', '38169', '39254', '38846', '38739', '38059', '38257', '37398', '37730', '37756', '37101', '35513', '34909', '33847', '33015', '32586', '32960', '31766', '30604', '29413', '28383', '26914', '26800', '26744', '25689', '24417', '23411', '22324', '20970', '21054', '20994', '20215', '19449', '18522', '17860', '17042', '16857', '16855', '16115', '15534', '14849', '14077', '13269', '12788', '12894', '12139', '11523', '10933', '10312', '9711', '9459', '9474', '9009', '8436', '8066', '7728', '7384', '7315', '7207', '6847', '6585', '6150', '5880', '5567', '5448', '5431', '5150', '4880', '4583', '4485', '4436', '4185', '4197', '3976', '3742', '3557', '3376', '3244', '3229', '3255', '3143', '3019', '2872', '2793', '2650', '2549', '2492', '2408', '2295', '2195', '2140', '2035', '1983', '2007', '1926', '1893', '1791', '1749', '1673', '1626', '1649', '1572', '1515', '1464', '1366', '1287', '1285', '1303', '1295', '1238', '1159', '1157', '1137', '1118', '1129', '1106', '1068', '1001', '976', '966', '941', '943', '898', '918', '912', '922', '887', '924', '960', '921', '895', '872', '886', '887', '907', '929', '930', '961', '938', '965', '938', '964', '1035', '1057', '1064', '1095', '1076', '1105', '1140', '1181', '1232', '1257', '1322', '1364', '1349', '1384', '1518', '1541', '1495', '1516', '1537', '1543', '1604', '1742', '1745', '1823', '1933', '2011', '2055', '2175', '2361', '2483', '2678', '2765', '2936', '3033', '3179', '3455', '3670', '3853', '4034', '4147', '4227', '4343', '4646', '4737', '4925', '5096', '5308', '5375', '5644', '6001', '6093', '6104', '5981', '6014', '5953', '5977', '6210', '6002', '5787', '5750', '5746', '5697', '5851', '6011', '6014', '5997', '5951', '5979', '5877', '6040', '6376', '6401', '6459', '6501', '6510', '6521', '6738', '7008', '6949', '6973', '7019', '7069', '6961', '7092', '7320', '7661', '7661', '7604', '7648', '7531', '7723', '8009', '7940', '8098']\n"
     ]
    }
   ],
   "source": [
    "print(data['NewHosCases'])"
   ]
  },
  {
   "cell_type": "code",
   "execution_count": 9,
   "id": "0ee740e4",
   "metadata": {},
   "outputs": [
    {
     "data": {
      "image/png": "[encoded data removed]",
      "text/plain": [
       "<Figure size 432x288 with 1 Axes>"
      ]
     },
     "metadata": {
      "needs_background": "light"
     },
     "output_type": "display_data"
    }
   ],
   "source": [
    "df = pd.DataFrame(data,columns=['NewHosDate','NewHosCases'])\n",
    "plt.plot('NewHosDate','NewHosCases', data=df, color = 'olive')\n",
    "plt.show()"
   ]
  }
 ],
 "metadata": {
  "kernelspec": {
   "display_name": "Python 3 (ipykernel)",
   "language": "python",
   "name": "python3"
  },
  "language_info": {
   "codemirror_mode": {
    "name": "ipython",
    "version": 3
   },
   "file_extension": ".py",
   "mimetype": "text/x-python",
   "name": "python",
   "nbconvert_exporter": "python",
   "pygments_lexer": "ipython3",
   "version": "3.7.7"
  }
 },
 "nbformat": 4,
 "nbformat_minor": 5
}
