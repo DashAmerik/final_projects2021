{
 "cells": [
  {
   "cell_type": "code",
   "execution_count": 1,
   "id": "03577c58",
   "metadata": {},
   "outputs": [],
   "source": [
    "import pandas as pd\n",
    "import matplotlib.pyplot as plt\n",
    "import csv\n",
    "data = {'Date': [], 'Price': [],}\n",
    "csv_export = []\n",
    "    #date.append(row[0].split(\"/\")[0])"
   ]
  },
  {
   "cell_type": "code",
   "execution_count": 2,
   "id": "2d5c1e5a",
   "metadata": {},
   "outputs": [],
   "source": [
    "i = 0\n",
    "with open(r'C:\\Users\\DAmer\\OneDrive\\Документы\\GitHub\\final_projects2021\\data_analysis\\sample.csv','r') as file:\n",
    "    reader = csv.reader(file)\n",
    "    for row in reader:\n",
    "        if i > 0:\n",
    "            csv_export.append(row)\n",
    "        i+=1"
   ]
  },
  {
   "cell_type": "code",
   "execution_count": 3,
   "id": "cf3a1b78",
   "metadata": {},
   "outputs": [],
   "source": [
    "csv_export.reverse()\n",
    "#print(csv_export)\n",
    "\n",
    "for i in range(len(csv_export)):\n",
    "    if csv_export[i] == ['', '', '', '', '']:\n",
    "        pass\n",
    "    else:\n",
    "        if csv_export[i][0] == 'ERR':\n",
    "            data['Date'].append(csv_export[i-1][0])\n",
    "        else:\n",
    "            data['Date'].append(csv_export[i][0])\n",
    "\n",
    "        try:\n",
    "            data['Price'].append(int(float(csv_export[i][1])))\n",
    "        except ValueError:\n",
    "            if csv_export[i][0] == 'ERR':\n",
    "                data['Price'].append(int(float(csv_export[i-1][1])))\n",
    "            else:\n",
    "                data['Price'].append(int(float(csv_export[i-1][1])))\n",
    "                #data['Price'].append(int(float(csv_export[i][1])))\n",
    "\n"
   ]
  },
  {
   "cell_type": "code",
   "execution_count": 4,
   "id": "e447569f",
   "metadata": {},
   "outputs": [
    {
     "data": {
      "image/png": "[encoded data removed]",
      "text/plain": [
       "<Figure size 432x288 with 1 Axes>"
      ]
     },
     "metadata": {
      "needs_background": "light"
     },
     "output_type": "display_data"
    }
   ],
   "source": [
    "#print(csv_export)\n",
    "#print(data['Date'])\n",
    "#print(data['Price'])\n",
    "df = pd.DataFrame(data,columns=['Date','Price'])\n",
    "plt.plot('Date','Price', data=df, color = 'skyblue')\n",
    "plt.show()"
   ]
  },
  {
   "cell_type": "code",
   "execution_count": null,
   "id": "bea4a488",
   "metadata": {},
   "outputs": [],
   "source": []
  }
 ],
 "metadata": {
  "kernelspec": {
   "display_name": "Python 3 (ipykernel)",
   "language": "python",
   "name": "python3"
  },
  "language_info": {
   "codemirror_mode": {
    "name": "ipython",
    "version": 3
   },
   "file_extension": ".py",
   "mimetype": "text/x-python",
   "name": "python",
   "nbconvert_exporter": "python",
   "pygments_lexer": "ipython3",
   "version": "3.7.7"
  }
 },
 "nbformat": 4,
 "nbformat_minor": 5
}
