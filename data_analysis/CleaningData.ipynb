{
 "cells": [
  {
   "cell_type": "code",
   "execution_count": 1,
   "id": "03577c58",
   "metadata": {},
   "outputs": [],
   "source": [
    "import pandas as pd\n",
    "import matplotlib.pyplot as plt\n",
    "import csv\n",
    "data = {'Date': [], 'Price': [],}\n",
    "csv_export = []\n",
    "    #date.append(row[0].split(\"/\")[0])"
   ]
  },
  {
   "cell_type": "code",
   "execution_count": 2,
   "id": "2d5c1e5a",
   "metadata": {},
   "outputs": [],
   "source": [
    "i = 0\n",
    "with open(r'C:\\Users\\DAmer\\OneDrive\\Документы\\GitHub\\final_projects2021\\data_analysis\\sample.csv','r') as file:\n",
    "    reader = csv.reader(file)\n",
    "    for row in reader:\n",
    "        if i > 0:\n",
    "            csv_export.append(row)\n",
    "        i+=1"
   ]
  },
  {
   "cell_type": "code",
   "execution_count": 3,
   "id": "cf3a1b78",
   "metadata": {},
   "outputs": [
    {
     "name": "stdout",
     "output_type": "stream",
     "text": [
      "7356.42\n",
      "7320.4\n",
      "7338.0\n",
      "6736.96\n",
      "6730.34\n",
      "6733.0\n",
      "7012.02\n",
      "7124.72\n",
      "7068.0\n"
     ]
    }
   ],
   "source": [
    "csv_export.reverse()\n",
    "#print(csv_export)\n",
    "\n",
    "for i in range(len(csv_export)):\n",
    "    #print(csv_export[i])\n",
    "    if csv_export[i] == ['', '', '', '', '']:\n",
    "        pass\n",
    "    else:\n",
    "        if csv_export[i][0] == 'ERR':\n",
    "            data['Date'].append(csv_export[i-1][0])\n",
    "        else:\n",
    "            data['Date'].append(csv_export[i][0])\n",
    "\n",
    "        try:\n",
    "            if int(float(csv_export[i][1])) > 8000:\n",
    "                data['Price'].append((int(float(csv_export[i+1][1])) + int(float(csv_export[i-1][1])))/2)\n",
    "                print(csv_export[i+1][1])\n",
    "                print(csv_export[i-1][1])\n",
    "                print((int(float(csv_export[i+1][1])) + int(float(csv_export[i-1][1])))/2)\n",
    "            else:\n",
    "                data['Price'].append(int(float(csv_export[i][1])))\n",
    "                \n",
    "        except ValueError:\n",
    "            if csv_export[i][1] == 'ERR':\n",
    "                data['Price'].append(int(float(csv_export[i-1][1])))\n",
    "            \n",
    "            else:\n",
    "                data['Price'].append(int(float(csv_export[i-1][1])))\n",
    "                #data['Price'].append(int(float(csv_export[i][1])))\n",
    "\n",
    "\n"
   ]
  },
  {
   "cell_type": "code",
   "execution_count": 4,
   "id": "e447569f",
   "metadata": {},
   "outputs": [
    {
     "data": {
      "image/png": "[encoded data removed]",
      "text/plain": [
       "<Figure size 432x288 with 1 Axes>"
      ]
     },
     "metadata": {
      "needs_background": "light"
     },
     "output_type": "display_data"
    }
   ],
   "source": [
    "#print(csv_export)\n",
    "#print(data['Date'])\n",
    "#print(data['Price'])\n",
    "df = pd.DataFrame(data,columns=['Date','Price'])\n",
    "plt.plot('Date','Price', data=df, color = 'skyblue')\n",
    "plt.show()"
   ]
  },
  {
   "cell_type": "code",
   "execution_count": 5,
   "id": "bea4a488",
   "metadata": {},
   "outputs": [
    {
     "ename": "PermissionError",
     "evalue": "[Errno 13] Permission denied: 'C:\\\\Users\\\\DAmer\\\\OneDrive\\\\Документы\\\\GitHub\\\\final_projects2021\\\\data_analysis\\\\cleanedsample.csv'",
     "output_type": "error",
     "traceback": [
      "\u001b[1;31m---------------------------------------------------------------------------\u001b[0m",
      "\u001b[1;31mPermissionError\u001b[0m                           Traceback (most recent call last)",
      "\u001b[1;32m~\\AppData\\Local\\Temp/ipykernel_20304/1359206654.py\u001b[0m in \u001b[0;36m<module>\u001b[1;34m\u001b[0m\n\u001b[0;32m      2\u001b[0m \u001b[1;33m\u001b[0m\u001b[0m\n\u001b[0;32m      3\u001b[0m \u001b[1;31m# open the file in the write mode\u001b[0m\u001b[1;33m\u001b[0m\u001b[1;33m\u001b[0m\u001b[1;33m\u001b[0m\u001b[0m\n\u001b[1;32m----> 4\u001b[1;33m \u001b[1;32mwith\u001b[0m \u001b[0mopen\u001b[0m\u001b[1;33m(\u001b[0m\u001b[1;34mr'C:\\Users\\DAmer\\OneDrive\\Документы\\GitHub\\final_projects2021\\data_analysis\\cleanedsample.csv'\u001b[0m\u001b[1;33m,\u001b[0m \u001b[1;34m'w'\u001b[0m\u001b[1;33m,\u001b[0m \u001b[0mnewline\u001b[0m \u001b[1;33m=\u001b[0m \u001b[1;34m''\u001b[0m\u001b[1;33m)\u001b[0m \u001b[1;32mas\u001b[0m \u001b[0mf\u001b[0m\u001b[1;33m:\u001b[0m\u001b[1;33m\u001b[0m\u001b[1;33m\u001b[0m\u001b[0m\n\u001b[0m\u001b[0;32m      5\u001b[0m     \u001b[1;31m# create the csv writer\u001b[0m\u001b[1;33m\u001b[0m\u001b[1;33m\u001b[0m\u001b[1;33m\u001b[0m\u001b[0m\n\u001b[0;32m      6\u001b[0m     \u001b[0mwriter\u001b[0m \u001b[1;33m=\u001b[0m \u001b[0mcsv\u001b[0m\u001b[1;33m.\u001b[0m\u001b[0mwriter\u001b[0m\u001b[1;33m(\u001b[0m\u001b[0mf\u001b[0m\u001b[1;33m)\u001b[0m\u001b[1;33m\u001b[0m\u001b[1;33m\u001b[0m\u001b[0m\n",
      "\u001b[1;31mPermissionError\u001b[0m: [Errno 13] Permission denied: 'C:\\\\Users\\\\DAmer\\\\OneDrive\\\\Документы\\\\GitHub\\\\final_projects2021\\\\data_analysis\\\\cleanedsample.csv'"
     ]
    }
   ],
   "source": [
    "import csv\n",
    "\n",
    "# open the file in the write mode\n",
    "with open(r'C:\\Users\\DAmer\\OneDrive\\Документы\\GitHub\\final_projects2021\\data_analysis\\cleanedsample.csv', 'w', newline = '') as f:\n",
    "    # create the csv writer\n",
    "    writer = csv.writer(f)\n",
    "\n",
    "    # write a row to the csv file\n",
    "    for i in range(len(data['Date'])):\n",
    "        prepdata = [data['Date'][i],data['Price'][i]]\n",
    "        writer.writerow(prepdata)"
   ]
  },
  {
   "cell_type": "code",
   "execution_count": null,
   "id": "56276774",
   "metadata": {},
   "outputs": [],
   "source": []
  },
  {
   "cell_type": "code",
   "execution_count": null,
   "id": "b81096da",
   "metadata": {},
   "outputs": [],
   "source": []
  }
 ],
 "metadata": {
  "kernelspec": {
   "display_name": "Python 3 (ipykernel)",
   "language": "python",
   "name": "python3"
  },
  "language_info": {
   "codemirror_mode": {
    "name": "ipython",
    "version": 3
   },
   "file_extension": ".py",
   "mimetype": "text/x-python",
   "name": "python",
   "nbconvert_exporter": "python",
   "pygments_lexer": "ipython3",
   "version": "3.7.7"
  }
 },
 "nbformat": 4,
 "nbformat_minor": 5
}
