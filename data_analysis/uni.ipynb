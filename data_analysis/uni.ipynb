{
 "cells": [
  {
   "cell_type": "code",
   "execution_count": 1,
   "id": "b34a2350",
   "metadata": {},
   "outputs": [],
   "source": [
    "def CountLetter(file, letter):\n",
    "    f = open(file, 'r')\n",
    "    file = f.read()\n",
    "    file.lower()\n",
    "    return file.count(letter) + file.count(letter.lower())"
   ]
  },
  {
   "cell_type": "code",
   "execution_count": 2,
   "id": "ae9ebe02",
   "metadata": {},
   "outputs": [],
   "source": [
    "alphabet = ['A','B','C','D','E','F','G','H','I','J','K','L','M','N','O','P','Q','R','S','T','U','V','W','X','Y','Z']\n",
    "times = []\n",
    "total = 0"
   ]
  },
  {
   "cell_type": "code",
   "execution_count": 3,
   "id": "b4f25a62",
   "metadata": {},
   "outputs": [
    {
     "name": "stdout",
     "output_type": "stream",
     "text": [
      "[289150, 61956, 88185, 149462, 447204, 80516, 68199, 236868, 253990, 4779, 35408, 170019, 111452, 243262, 314600, 58464, 3582, 237864, 248989, 329775, 128947, 37569, 89390, 5294, 94370, 1631]\n",
      "A appears 289150 times ( 7.6274260239915055 )\n",
      "B appears 61956 times ( 1.6343240765776164 )\n",
      "C appears 88185 times ( 2.3262132592968734 )\n",
      "D appears 149462 times ( 3.9426261400581657 )\n",
      "E appears 447204 times ( 11.796698694909553 )\n",
      "F appears 80516 times ( 2.123914348081273 )\n",
      "G appears 68199 times ( 1.799006838700317 )\n",
      "H appears 236868 times ( 6.248290324920699 )\n",
      "I appears 253990 times ( 6.6999479018972945 )\n",
      "J appears 4779 times ( 0.12606421915495558 )\n",
      "K appears 35408 times ( 0.9340200610668901 )\n",
      "L appears 170019 times ( 4.484894847563589 )\n",
      "M appears 111452 times ( 2.9399684773505146 )\n",
      "N appears 243262 times ( 6.416956283756603 )\n",
      "O appears 314600 times ( 8.298766132276423 )\n",
      "P appears 58464 times ( 1.5422093552365188 )\n",
      "Q appears 3582 times ( 0.09448881209731134 )\n",
      "R appears 237864 times ( 6.274563595956133 )\n",
      "S appears 248989 times ( 6.568027592210345 )\n",
      "T appears 329775 times ( 8.699064212560259 )\n",
      "U appears 128947 times ( 3.4014653415723073 )\n",
      "V appears 37569 times ( 0.9910246180022027 )\n",
      "W appears 89390 times ( 2.357999696643959 )\n",
      "X appears 5294 times ( 0.13964929403773485 )\n",
      "Y appears 94370 times ( 2.489366051821125 )\n",
      "Z appears 1631 times ( 0.043023800259831046 )\n"
     ]
    }
   ],
   "source": [
    "for i in alphabet:\n",
    "    times.append(CountLetter('shakespeare.txt',i))\n",
    "    total += CountLetter('shakespeare.txt',i)\n",
    "\n",
    "for i in range(len(alphabet)):\n",
    "    print(alphabet[i], 'appears',times[i], 'times', '(',(times[i]/total)*100,')')"
   ]
  },
  {
   "cell_type": "code",
   "execution_count": null,
   "id": "3d12c085",
   "metadata": {},
   "outputs": [],
   "source": []
  }
 ],
 "metadata": {
  "kernelspec": {
   "display_name": "Python 3 (ipykernel)",
   "language": "python",
   "name": "python3"
  },
  "language_info": {
   "codemirror_mode": {
    "name": "ipython",
    "version": 3
   },
   "file_extension": ".py",
   "mimetype": "text/x-python",
   "name": "python",
   "nbconvert_exporter": "python",
   "pygments_lexer": "ipython3",
   "version": "3.7.7"
  }
 },
 "nbformat": 4,
 "nbformat_minor": 5
}
