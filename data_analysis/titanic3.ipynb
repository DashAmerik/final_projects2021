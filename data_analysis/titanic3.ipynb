{
 "cells": [
  {
   "cell_type": "code",
   "execution_count": 1,
   "id": "7bdeadf5",
   "metadata": {},
   "outputs": [
    {
     "data": {
      "image/png": "[encoded data removed]",
      "text/plain": [
       "<Figure size 432x288 with 1 Axes>"
      ]
     },
     "metadata": {
      "needs_background": "light"
     },
     "output_type": "display_data"
    }
   ],
   "source": [
    "import matplotlib.pyplot as plt\n",
    "import csv\n",
    "\n",
    "age = []\n",
    "\n",
    "with open('Titanic_R.csv') as csv_file:\n",
    "    reader = csv.reader(csv_file,delimiter=';')\n",
    "    for row in reader:\n",
    "        if 'Residence' in row or ' ' in row[4]:\n",
    "            pass\n",
    "        else:\n",
    "            if '.' in row[4] or row[4]=='':\n",
    "                full_age='0'+row[4][:2]\n",
    "                age.append(int(float(full_age)))\n",
    "            elif '√' in row[4]:\n",
    "                age.append(int(row[:2]))\n",
    "            else:\n",
    "                age.append(int(row[4]))\n",
    "\n",
    "plt.hist(age)\n",
    "plt.show()"
   ]
  }
 ],
 "metadata": {
  "kernelspec": {
   "display_name": "Python 3 (ipykernel)",
   "language": "python",
   "name": "python3"
  },
  "language_info": {
   "codemirror_mode": {
    "name": "ipython",
    "version": 3
   },
   "file_extension": ".py",
   "mimetype": "text/x-python",
   "name": "python",
   "nbconvert_exporter": "python",
   "pygments_lexer": "ipython3",
   "version": "3.7.7"
  }
 },
 "nbformat": 4,
 "nbformat_minor": 5
}
