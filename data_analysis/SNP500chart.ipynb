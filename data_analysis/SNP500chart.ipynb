{
 "cells": [
  {
   "cell_type": "code",
   "execution_count": 1,
   "id": "c4797f0e",
   "metadata": {},
   "outputs": [],
   "source": [
    "import pandas as pd\n",
    "import matplotlib.pyplot as plt\n",
    "import csv"
   ]
  },
  {
   "cell_type": "code",
   "execution_count": 2,
   "id": "826e7087",
   "metadata": {},
   "outputs": [],
   "source": [
    "data = {'Date': [], 'Price': [], 'AvPrice': [],}\n",
    "#averagedata = {'Date':[], 'AvPrice': [],}"
   ]
  },
  {
   "cell_type": "code",
   "execution_count": 3,
   "id": "f6846925",
   "metadata": {},
   "outputs": [],
   "source": [
    "i = 0\n",
    "with open(r'C:\\Users\\DAmer\\OneDrive\\Документы\\GitHub\\final_projects2021\\data_analysis\\SPY.csv','r') as file:\n",
    "    reader = csv.reader(file)\n",
    "    for row in reader:\n",
    "        if i > 0:\n",
    "            data['Date'].append(row[0].split(\"-\")[0])\n",
    "            data['Price'].append(int(float(row[1])))\n",
    "        i += 1"
   ]
  },
  {
   "cell_type": "code",
   "execution_count": 4,
   "id": "c9609442",
   "metadata": {},
   "outputs": [],
   "source": [
    "for i in range(52):\n",
    "    data['AvPrice'].append(0)\n",
    "for i in range(52,len(data['Price'])):\n",
    "    total = 0\n",
    "    for a in range(i-52,i):\n",
    "        total = total + data['Price'][a]\n",
    "    average = total/52\n",
    "    data['AvPrice'].append(average)\n",
    "    #averagedata['Date'].append(data['Date'][i])\n",
    "#print(averagedata['AvPrice'])"
   ]
  },
  {
   "cell_type": "code",
   "execution_count": 5,
   "id": "acc4caee",
   "metadata": {},
   "outputs": [
    {
     "data": {
      "image/png": "[encoded data removed]",
      "text/plain": [
       "<Figure size 432x288 with 1 Axes>"
      ]
     },
     "metadata": {
      "needs_background": "light"
     },
     "output_type": "display_data"
    }
   ],
   "source": [
    "df = pd.DataFrame(data,columns=['Date','Price','AvPrice'])\n",
    "#df.plot(x ='Date', y='Price', y1 = 'AvPrice', kind = 'line')\n",
    "\n",
    "plt.plot('Date','Price', data=df, color = 'skyblue')\n",
    "plt.plot('Date','AvPrice', data=df, color = 'olive')\n",
    "#plt.plot(df['Price'].rolling(52).mean())\n",
    "plt.show()"
   ]
  },
  {
   "cell_type": "code",
   "execution_count": null,
   "id": "2ad57822",
   "metadata": {},
   "outputs": [],
   "source": []
  },
  {
   "cell_type": "code",
   "execution_count": null,
   "id": "79869c2f",
   "metadata": {},
   "outputs": [],
   "source": []
  }
 ],
 "metadata": {
  "kernelspec": {
   "display_name": "Python 3 (ipykernel)",
   "language": "python",
   "name": "python3"
  },
  "language_info": {
   "codemirror_mode": {
    "name": "ipython",
    "version": 3
   },
   "file_extension": ".py",
   "mimetype": "text/x-python",
   "name": "python",
   "nbconvert_exporter": "python",
   "pygments_lexer": "ipython3",
   "version": "3.7.7"
  }
 },
 "nbformat": 4,
 "nbformat_minor": 5
}
