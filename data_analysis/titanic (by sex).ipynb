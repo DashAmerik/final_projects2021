{
 "cells": [
  {
   "cell_type": "code",
   "execution_count": 1,
   "id": "c121ad2a",
   "metadata": {},
   "outputs": [],
   "source": [
    "import matplotlib.pyplot as plt\n",
    "import csv\n",
    "import numpy as np\n",
    "alivef = 0\n",
    "alivem = 0\n",
    "deadf = 0\n",
    "deadm = 0\n",
    "sumf = 0\n",
    "summ = 0"
   ]
  },
  {
   "cell_type": "code",
   "execution_count": 2,
   "id": "51ca5677",
   "metadata": {},
   "outputs": [
    {
     "name": "stdout",
     "output_type": "stream",
     "text": [
      "843 161\n"
     ]
    }
   ],
   "source": [
    "i = 0\n",
    "with open(r'C:\\Users\\DAmer\\OneDrive\\Документы\\GitHub\\final_projects2021\\data_analysis\\Titanic_R.csv','r') as file:\n",
    "    reader = csv.reader(file, delimiter=';')\n",
    "    for row in reader:\n",
    "        if i > 0:\n",
    "            if row[14] == '1':\n",
    "                sumf += 1\n",
    "                alivef += int(row[1])\n",
    "            if row[14] == '0':\n",
    "                summ += 1\n",
    "                alivem += int(row[1])\n",
    "        i+=1\n"
   ]
  },
  {
   "cell_type": "code",
   "execution_count": 3,
   "id": "27eb7980",
   "metadata": {},
   "outputs": [],
   "source": [
    "deadf = sumf - alivef\n",
    "deadm = summ - alivem"
   ]
  },
  {
   "cell_type": "code",
   "execution_count": 4,
   "id": "f1013742",
   "metadata": {},
   "outputs": [
    {
     "data": {
      "image/png": "[encoded data removed]",
      "text/plain": [
       "<Figure size 432x288 with 1 Axes>"
      ]
     },
     "metadata": {},
     "output_type": "display_data"
    },
    {
     "data": {
      "image/png": "[encoded data removed]",
      "text/plain": [
       "<Figure size 432x288 with 1 Axes>"
      ]
     },
     "metadata": {},
     "output_type": "display_data"
    }
   ],
   "source": [
    "y = np.array([alivem, deadm])\n",
    "mylabels = [\"alive (men)\",\"dead (men)\"]\n",
    "plt.pie(y, labels = mylabels)\n",
    "plt.show()\n",
    "\n",
    "y2 = np.array([alivef, deadf])\n",
    "mylabels2 = [\"alive (female)\",\"dead (female)\"]\n",
    "plt.pie(y2, labels = mylabels2)\n",
    "plt.show()"
   ]
  }
 ],
 "metadata": {
  "kernelspec": {
   "display_name": "Python 3 (ipykernel)",
   "language": "python",
   "name": "python3"
  },
  "language_info": {
   "codemirror_mode": {
    "name": "ipython",
    "version": 3
   },
   "file_extension": ".py",
   "mimetype": "text/x-python",
   "name": "python",
   "nbconvert_exporter": "python",
   "pygments_lexer": "ipython3",
   "version": "3.7.7"
  }
 },
 "nbformat": 4,
 "nbformat_minor": 5
}
