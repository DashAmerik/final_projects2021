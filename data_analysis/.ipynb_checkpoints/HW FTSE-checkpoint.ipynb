{
 "cells": [
  {
   "cell_type": "code",
   "execution_count": 1,
   "id": "9893ec91",
   "metadata": {},
   "outputs": [],
   "source": [
    "import pandas as pd\n",
    "import matplotlib.pyplot as plt\n",
    "import csv"
   ]
  },
  {
   "cell_type": "code",
   "execution_count": 2,
   "id": "665aa517",
   "metadata": {},
   "outputs": [],
   "source": [
    "data = {'Date': [], 'Price': [], 'AvPrice100': [], 'AvPrice200': [],}"
   ]
  },
  {
   "cell_type": "code",
   "execution_count": 3,
   "id": "2a4cd29d",
   "metadata": {},
   "outputs": [],
   "source": [
    "#C:\\Users\\DAmer\\OneDrive\\Документы\\GitHub\\final_projects2021\\data_analysis\\FTSE HistoricalPrices.csv\n",
    "i = 0\n",
    "with open(r'C:\\Users\\DAmer\\OneDrive\\Документы\\GitHub\\final_projects2021\\data_analysis\\FTSE HistoricalPrices.csv','r') as file:\n",
    "    reader = csv.reader(file)\n",
    "    for row in reader:\n",
    "        if i > 0:\n",
    "            data['Date'].append(row[0].split(\"-\")[0])\n",
    "            data['Price'].append(int(float(row[1])))\n",
    "        i += 1"
   ]
  },
  {
   "cell_type": "code",
   "execution_count": 4,
   "id": "80cc05a1",
   "metadata": {},
   "outputs": [],
   "source": [
    "for i in range(100):\n",
    "    data['AvPrice100'].append(0)\n",
    "for i in range(100,len(data['Price'])):\n",
    "    total = 0\n",
    "    for a in range(i-100,i):\n",
    "        total = total + data['Price'][a]\n",
    "    average = total/100\n",
    "    data['AvPrice100'].append(average)\n",
    "    \n",
    "for i in range(200):\n",
    "    data['AvPrice200'].append(0)\n",
    "for i in range(200,len(data['Price'])):\n",
    "    total = 0\n",
    "    for a in range(i-200,i):\n",
    "        total = total + data['Price'][a]\n",
    "    average = total/200\n",
    "    data['AvPrice200'].append(average)"
   ]
  },
  {
   "cell_type": "code",
   "execution_count": null,
   "id": "17a93be7",
   "metadata": {},
   "outputs": [],
   "source": [
    "df = pd.DataFrame(data,columns=['Date','Price','AvPrice100','AvPrice200'])\n",
    "plt.plot('Date','AvPrice100', data=df, color = 'olive')\n",
    "plt.plot('Date','AvPrice200', data=df, color = 'skyblue')\n",
    "plt.show()"
   ]
  },
  {
   "cell_type": "code",
   "execution_count": null,
   "id": "ad50de0e",
   "metadata": {},
   "outputs": [],
   "source": []
  }
 ],
 "metadata": {
  "kernelspec": {
   "display_name": "Python 3 (ipykernel)",
   "language": "python",
   "name": "python3"
  },
  "language_info": {
   "codemirror_mode": {
    "name": "ipython",
    "version": 3
   },
   "file_extension": ".py",
   "mimetype": "text/x-python",
   "name": "python",
   "nbconvert_exporter": "python",
   "pygments_lexer": "ipython3",
   "version": "3.7.7"
  }
 },
 "nbformat": 4,
 "nbformat_minor": 5
}
