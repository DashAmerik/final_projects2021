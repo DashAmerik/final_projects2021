{
 "cells": [
  {
   "cell_type": "code",
   "execution_count": 1,
   "id": "32379830",
   "metadata": {},
   "outputs": [],
   "source": [
    "import matplotlib.pyplot as plt\n",
    "import csv\n",
    "import numpy as np\n",
    "alivef = 0\n",
    "alivem = 0\n",
    "deadf = 0\n",
    "deadm = 0\n",
    "sumf = 0\n",
    "summ = 0"
   ]
  },
  {
   "cell_type": "code",
   "execution_count": null,
   "id": "750c3f58",
   "metadata": {},
   "outputs": [],
   "source": [
    "i = 0\n",
    "with open(r'C:\\Users\\DAmer\\OneDrive\\Документы\\GitHub\\final_projects2021\\data_analysis\\Titanic_R.csv','r') as file:\n",
    "    reader = csv.reader(file, delimiter=';')\n",
    "    for row in reader:\n",
    "        if i > 0:\n",
    "             if row[14] == '1':\n",
    "                sumf += 1\n",
    "                alivef += int(row[1])\n",
    "            if row[14] == '0':\n",
    "                summ += 1\n",
    "                alivem += int(row[1])\n",
    "        i+=1\n",
    "print(summ,alivem)"
   ]
  }
 ],
 "metadata": {
  "kernelspec": {
   "display_name": "Python 3 (ipykernel)",
   "language": "python",
   "name": "python3"
  },
  "language_info": {
   "codemirror_mode": {
    "name": "ipython",
    "version": 3
   },
   "file_extension": ".py",
   "mimetype": "text/x-python",
   "name": "python",
   "nbconvert_exporter": "python",
   "pygments_lexer": "ipython3",
   "version": "3.7.7"
  }
 },
 "nbformat": 4,
 "nbformat_minor": 5
}
