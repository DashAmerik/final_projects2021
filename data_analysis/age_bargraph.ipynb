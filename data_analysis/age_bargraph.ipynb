{
 "cells": [
  {
   "cell_type": "code",
   "execution_count": 1,
   "id": "63d5ec05",
   "metadata": {},
   "outputs": [],
   "source": [
    "import matplotlib.pyplot as plt\n",
    "import csv\n",
    "import numpy as np\n",
    "ages = {}"
   ]
  },
  {
   "cell_type": "code",
   "execution_count": 2,
   "id": "3970762a",
   "metadata": {},
   "outputs": [
    {
     "name": "stdout",
     "output_type": "stream",
     "text": [
      "{'70.5': 1, '60.5': 1, '55.5': 1, '45.5': 2, '40.5': 3, '38.5': 1, '36.5': 2, '34.5': 2, '32.5': 4, '30.Ã¬Ã\\xa0Ã©': 2, '28.Ã¬Ã\\xa0Ã©': 3, '26.Ã¬Ã\\xa0Ã©': 1, '24.Ã¬Ã\\xa0Ã©': 1, '23.Ã¬Ã\\xa0Ã©': 1, '22.Ã¬Ã\\xa0Ã©': 1, '20.Ã¬Ã\\xa0Ã©': 1, '18.Ã¬Ã\\xa0Ã©': 3, '14.Ã¬Ã\\xa0Ã©': 2, '11.Ã¬Ã\\xa0Ã©': 1, '.9167': 2, '.8333': 3, '.75': 3, '.6667': 1, '.4167': 1, '.3333': 1, '.1667': 1, ' ': 262, '80': 1, '76': 1, '74': 1, '71': 2, '70': 2, '67': 1, '66': 1, '65': 3, '64': 5, '63': 4, '62': 5, '61': 5, '60': 7, '59': 3, '58': 6, '57': 5, '56': 4, '55': 8, '54': 10, '53': 4, '52': 6, '51': 8, '50': 15, '49': 9, '48': 14, '47': 14, '46': 6, '45': 21, '44': 10, '43': 9, '42': 18, '41': 11, '40': 18, '39': 20, '38': 14, '37': 9, '36': 31, '35': 23, '34': 16, '33': 21, '32': 24, '31': 23, '30': 40, '29': 30, '28': 32, '27': 30, '26': 30, '25': 34, '24': 47, '23': 26, '22': 43, '21': 41, '20': 23, '19': 29, '18': 39, '17': 20, '16': 19, '15': 6, '14': 8, '13': 5, '12': 3, '11': 4, '10': 4, '9': 10, '8': 6, '7': 4, '6': 6, '5': 5, '4': 10, '3': 7, '2': 12, '1': 10, '': 1}\n"
     ]
    }
   ],
   "source": [
    "i = 0\n",
    "with open(r'C:\\Users\\DAmer\\OneDrive\\Документы\\GitHub\\final_projects2021\\data_analysis\\Titanic_R.csv','r') as file:\n",
    "    reader = csv.reader(file, delimiter=';')\n",
    "    for row in reader:\n",
    "        if i > 0:\n",
    "            curage = row[4]\n",
    "            if curage in ages:\n",
    "                ages[curage] += 1\n",
    "            else:\n",
    "                ages[curage] = ages.get(curage, 0) + 1\n",
    "        i+=1\n",
    "    \n",
    "print(ages)"
   ]
  },
  {
   "cell_type": "code",
   "execution_count": null,
   "id": "e8985562",
   "metadata": {},
   "outputs": [],
   "source": []
  }
 ],
 "metadata": {
  "kernelspec": {
   "display_name": "Python 3 (ipykernel)",
   "language": "python",
   "name": "python3"
  },
  "language_info": {
   "codemirror_mode": {
    "name": "ipython",
    "version": 3
   },
   "file_extension": ".py",
   "mimetype": "text/x-python",
   "name": "python",
   "nbconvert_exporter": "python",
   "pygments_lexer": "ipython3",
   "version": "3.7.7"
  }
 },
 "nbformat": 4,
 "nbformat_minor": 5
}
