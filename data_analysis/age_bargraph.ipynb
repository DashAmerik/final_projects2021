{
 "cells": [
  {
   "cell_type": "code",
   "execution_count": 1,
   "id": "63d5ec05",
   "metadata": {},
   "outputs": [],
   "source": [
    "import matplotlib.pyplot as plt\n",
    "import csv\n",
    "import numpy as np\n",
    "ages = {}"
   ]
  },
  {
   "cell_type": "code",
   "execution_count": 2,
   "id": "3970762a",
   "metadata": {},
   "outputs": [
    {
     "name": "stdout",
     "output_type": "stream",
     "text": [
      "{'70.5': 1, '60.5': 1, '55.5': 1, '45.5': 2, '40.5': 3, '38.5': 1, '36.5': 2, '34.5': 2, '32.5': 4, '30': 42, '28': 35, '26': 31, '24': 48, '23': 27, '22': 44, '20': 24, '18': 42, '14': 10, '11': 5, '.9167': 2, '.8333': 3, '.75': 3, '.6667': 1, '.4167': 1, '.3333': 2, '80': 1, '76': 1, '74': 1, '71': 2, '70': 2, '67': 1, '66': 1, '65': 3, '64': 5, '63': 4, '62': 5, '61': 5, '60': 7, '59': 3, '58': 6, '57': 5, '56': 4, '55': 8, '54': 10, '53': 4, '52': 6, '51': 8, '50': 15, '49': 9, '48': 14, '47': 14, '46': 6, '45': 21, '44': 10, '43': 9, '42': 18, '41': 11, '40': 18, '39': 20, '38': 14, '37': 9, '36': 31, '35': 23, '34': 16, '33': 21, '32': 24, '31': 23, '29': 30, '27': 30, '25': 34, '21': 41, '19': 29, '17': 20, '16': 19, '15': 6, '13': 5, '12': 3, '10': 4, '9': 10, '8': 6, '7': 4, '6': 6, '5': 5, '4': 10, '3': 7, '2': 12, '1': 10}\n"
     ]
    }
   ],
   "source": [
    "i = 0\n",
    "with open(r'C:\\Users\\DAmer\\OneDrive\\Документы\\GitHub\\final_projects2021\\data_analysis\\Titanic_R.csv','r') as file:\n",
    "    reader = csv.reader(file, delimiter=';')\n",
    "    dont_write = False\n",
    "    for row in reader:\n",
    "        if i > 0:\n",
    "            if ' ' in row[4] or row[4] == None:\n",
    "                dont_write = True\n",
    "            if '.1667' in row[4]:\n",
    "                #print(row[4])\n",
    "                pass\n",
    "            \n",
    "            else:\n",
    "                curage = row[4]\n",
    "            if '.Ã¬Ã\\xa0Ã©' in curage:\n",
    "                curage = curage.replace('.Ã¬Ã\\xa0Ã©','')\n",
    "                \n",
    "            if curage in ages:\n",
    "                ages[curage] += 1\n",
    "            elif curage != ' ':\n",
    "                    ages[curage] = ages.get(curage, 0) + 1\n",
    "        i+=1\n",
    "ages.popitem()\n",
    "print(ages)"
   ]
  },
  {
   "cell_type": "code",
   "execution_count": 3,
   "id": "e8985562",
   "metadata": {},
   "outputs": [
    {
     "data": {
      "image/png": "[encoded data removed]",
      "text/plain": [
       "<Figure size 432x288 with 1 Axes>"
      ]
     },
     "metadata": {
      "needs_background": "light"
     },
     "output_type": "display_data"
    }
   ],
   "source": [
    "fig = plt.figure()\n",
    "ax = fig.add_axes([0,0,1,1])\n",
    "agesx = []\n",
    "freq = []\n",
    "for key, value in ages.items() :\n",
    "    agesx.append(int(float(key)))\n",
    "    freq.append(value)\n",
    "\n",
    "\n",
    "agesx.sort()\n",
    "ax.bar(agesx,freq)\n",
    "plt.show()"
   ]
  }
 ],
 "metadata": {
  "kernelspec": {
   "display_name": "Python 3 (ipykernel)",
   "language": "python",
   "name": "python3"
  },
  "language_info": {
   "codemirror_mode": {
    "name": "ipython",
    "version": 3
   },
   "file_extension": ".py",
   "mimetype": "text/x-python",
   "name": "python",
   "nbconvert_exporter": "python",
   "pygments_lexer": "ipython3",
   "version": "3.7.7"
  }
 },
 "nbformat": 4,
 "nbformat_minor": 5
}
